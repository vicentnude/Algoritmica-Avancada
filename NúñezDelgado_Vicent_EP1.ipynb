{
 "cells": [
  {
   "cell_type": "markdown",
   "metadata": {},
   "source": [
    "<div style=\"padding:30px; color: white; background-color: #0071CD\">\n",
    "<center>\n",
    "<img src=\"img/logoub.jpeg\"></img>\n",
    "<center>\n",
    "<p>\n",
    "<h1>Algorísmica Avançada</h1>\n",
    "<h2>Examen de prácticas 1</h2>\n",
    "</center>\n",
    "</p>\n",
    "</div>"
   ]
  },
  {
   "cell_type": "markdown",
   "metadata": {},
   "source": [
    "<div class=\"alert alert-success\" style=\"width:90%; margin:0 auto;\">\n",
    "  <h2><p>Búsqueda de componentes conexos</p></h2>\n",
    "  <p>\n",
    "  Se dice que un grafo $G$ es inconexo si está formado por dos o más subconjuntos disjuntos de nodos (no hay aristas que conecten nodos de un subconjunto con nodos de otro subconjunto), la figura siguiente muestra un grafo inconexo en el que se pueden observar claramente dos subgrafos:\n",
    "  <img src=\"img/inconex.png\" width=\"500px\">\n",
    "  </p>\n",
    "  <p>\n",
    "  El examen contiene dos ejercicios en el que se os propone implementar __un algoritmo basado en la búsqueda en amplitud (BFS)__ y __un algoritmo basado en la búsqueda en profundidad (DFS)__ que séan capaces, dado cualquier grafo $G$, de identificar todos los componentes conexos de dicho grafo.\n",
    "  </p>\n",
    "  </div>\n"
   ]
  },
  {
   "cell_type": "markdown",
   "metadata": {},
   "source": [
    "<div class=\"alert alert-danger\" style=\"width:80%; margin:0 auto; padding\">\n",
    "<center><p><h3> Código </h3></p> </center>\n",
    "<p>\n",
    "<h3>INPUT</h3>\n",
    "<ul>\n",
    "<li>__G__: Un grafo de tipo `Graph`.</li>\n",
    "<li>_opt_: Se pueden añadir en los headers de las funciones tantos parametros opcionales como se necesiten.</li>\n",
    "</ul>\n",
    "<br>\n",
    "<h3>OUTPUT</h3>\n",
    "El output de una funcion es un diccionario que contiene los siguientes valores\n",
    "<ul>\n",
    "<li>__ _'subgraphs'_ __: Una lista en la que cada elemento sea otra lista que contenga los nodos de cada uno de los subgrafos.</li>\n",
    "<li>__ _'expanded'_ __: El numero de nodos que se han visitado para encontrar la solución.</li>\n",
    "<ul>\n",
    "\n",
    "</p>\n",
    "</div>\n"
   ]
  },
  {
   "cell_type": "code",
   "execution_count": 10,
   "metadata": {
    "collapsed": true
   },
   "outputs": [],
   "source": [
    "# EJERCICIO 1\n",
    "from graph import Graph\n",
    "\n",
    "def subgraph_search_BFS(G):\n",
    "    \"\"\"Este metodo encuentra todos los componentes conexos de un grafo utilizando\n",
    "    BFS como algoritmo base. El algoritmo se ejecuta de forma iterativa y devuelve\n",
    "    un diccionario con los elementos `subgraph` y `expanded`.\n",
    "    \n",
    "    Args:\n",
    "        G (Graph): El grafo de tipo Graph sobre el que queremos buscar los componentes conexos\n",
    "    Returns:\n",
    "        dict: Diccionario que contiene los componentes conexos y el numero de nodos expandidos:\n",
    "    Examples:\n",
    "        >>> G = Graph()\n",
    "        >>> G.add_edges_from(((1,2), (1,3), (2,3), (3,6), (4,5), (10,11), (11,12)))\n",
    "        # {'communities': [[1, 2, 3, 6], [4, 5], [10, 11, 12]], 'expanded': 9}\n",
    "    \"\"\"\n",
    "    subgraphs = []\n",
    "    expanded = 0\n",
    "    \n",
    "    return {\n",
    "        'subraphs' : subgraphs,\n",
    "        'expanded' : expanded\n",
    "    }"
   ]
  },
  {
   "cell_type": "code",
   "execution_count": 6,
   "metadata": {},
   "outputs": [],
   "source": [
    "# EJERCICIO 2\n",
    "from graph import Graph\n",
    "\n",
    "def subgraph_search_DFS(G):\n",
    "    \"\"\"Este metodo encuentra todos los componentes conexos de un grafo utilizando\n",
    "    DFS como algoritmo base. El algoritmo se ejecuta de forma recursiva y devuelve\n",
    "    un diccionario con los elementos `subgraph` y `expanded`.\n",
    "    \n",
    "    Args:\n",
    "        G (Graph): El grafo de tipo Graph sobre el que queremos buscar los componentes conexos\n",
    "    Returns:\n",
    "        dict: Diccionario que contiene los componentes conexos y el numero de nodos expandidos:\n",
    "    Examples:\n",
    "        >>> G = Graph()\n",
    "        >>> G.add_edges_from(((1,2), (1,3), (2,3), (3,6), (4,5), (10,11), (11,12)))\n",
    "        # {'communities': [[1, 3, 6, 2], [4, 5], [10, 11, 12]], 'expanded': 9}\n",
    "    \"\"\"\n",
    "    \n",
    "    \n",
    "    for v in G:\n",
    "        print (v)\n",
    "        v.visited=False\n",
    "        \n",
    "    for v in G:\n",
    "        if v.visited == False:\n",
    "            community=[]\n",
    "            explore(v)\n",
    "            \n",
    "        for w in v.neighbors():\n",
    "            community.append(w)\n",
    "            \n",
    "        subgraphs.community(append)\n",
    "        \n",
    "    \n",
    "            \n",
    "    subgraphs = []\n",
    "    \n",
    "    return {\n",
    "        'subraphs' : subgraphs,\n",
    "        'expanded' : expanded\n",
    "    }\n",
    "\n",
    "def explore(v):\n",
    "    if v.visited == False :\n",
    "        v.visited=True\n",
    "        for w in v.neighbors():\n",
    "            explore(w)\n",
    "    \n",
    "        \n",
    "    \n"
   ]
  },
  {
   "cell_type": "markdown",
   "metadata": {},
   "source": [
    "<div class=\"alert alert-info\">\n",
    "<center>\n",
    "  <h1>Comentarios</h1>\n",
    "  <p>\n",
    "  En esta sección tenéis que comentar brevemente (1) __cómo habéis realizado la implementación de los algoritmos__ así como un (2) __análisis detallado de la complejidad__ de los mismos.\n",
    "  </p>\n",
    "</center>\n",
    "</div>"
   ]
  },
  {
   "cell_type": "code",
   "execution_count": 7,
   "metadata": {},
   "outputs": [
    {
     "ename": "ValueError",
     "evalue": "El nodo 0 no existe",
     "output_type": "error",
     "traceback": [
      "\u001b[1;31m---------------------------------------------------------------------------\u001b[0m",
      "\u001b[1;31mValueError\u001b[0m                                Traceback (most recent call last)",
      "\u001b[1;32m<ipython-input-7-5af1b12897e5>\u001b[0m in \u001b[0;36m<module>\u001b[1;34m()\u001b[0m\n\u001b[0;32m      1\u001b[0m \u001b[0mG\u001b[0m \u001b[1;33m=\u001b[0m \u001b[0mGraph\u001b[0m\u001b[1;33m(\u001b[0m\u001b[1;33m)\u001b[0m\u001b[1;33m\u001b[0m\u001b[0m\n\u001b[0;32m      2\u001b[0m \u001b[0mG\u001b[0m\u001b[1;33m.\u001b[0m\u001b[0madd_edges_from\u001b[0m\u001b[1;33m(\u001b[0m\u001b[1;33m(\u001b[0m\u001b[1;33m(\u001b[0m\u001b[1;36m1\u001b[0m\u001b[1;33m,\u001b[0m\u001b[1;36m2\u001b[0m\u001b[1;33m)\u001b[0m\u001b[1;33m,\u001b[0m \u001b[1;33m(\u001b[0m\u001b[1;36m1\u001b[0m\u001b[1;33m,\u001b[0m\u001b[1;36m3\u001b[0m\u001b[1;33m)\u001b[0m\u001b[1;33m,\u001b[0m \u001b[1;33m(\u001b[0m\u001b[1;36m2\u001b[0m\u001b[1;33m,\u001b[0m\u001b[1;36m3\u001b[0m\u001b[1;33m)\u001b[0m\u001b[1;33m,\u001b[0m \u001b[1;33m(\u001b[0m\u001b[1;36m3\u001b[0m\u001b[1;33m,\u001b[0m\u001b[1;36m6\u001b[0m\u001b[1;33m)\u001b[0m\u001b[1;33m,\u001b[0m \u001b[1;33m(\u001b[0m\u001b[1;36m4\u001b[0m\u001b[1;33m,\u001b[0m\u001b[1;36m5\u001b[0m\u001b[1;33m)\u001b[0m\u001b[1;33m,\u001b[0m \u001b[1;33m(\u001b[0m\u001b[1;36m10\u001b[0m\u001b[1;33m,\u001b[0m\u001b[1;36m11\u001b[0m\u001b[1;33m)\u001b[0m\u001b[1;33m,\u001b[0m \u001b[1;33m(\u001b[0m\u001b[1;36m11\u001b[0m\u001b[1;33m,\u001b[0m\u001b[1;36m12\u001b[0m\u001b[1;33m)\u001b[0m\u001b[1;33m)\u001b[0m\u001b[1;33m)\u001b[0m\u001b[1;33m\u001b[0m\u001b[0m\n\u001b[1;32m----> 3\u001b[1;33m \u001b[0msubgraph_search_DFS\u001b[0m\u001b[1;33m(\u001b[0m\u001b[0mG\u001b[0m\u001b[1;33m)\u001b[0m\u001b[1;33m\u001b[0m\u001b[0m\n\u001b[0m",
      "\u001b[1;32m<ipython-input-6-a998de8a80a0>\u001b[0m in \u001b[0;36msubgraph_search_DFS\u001b[1;34m(G)\u001b[0m\n\u001b[0;32m     18\u001b[0m \u001b[1;33m\u001b[0m\u001b[0m\n\u001b[0;32m     19\u001b[0m \u001b[1;33m\u001b[0m\u001b[0m\n\u001b[1;32m---> 20\u001b[1;33m     \u001b[1;32mfor\u001b[0m \u001b[0mv\u001b[0m \u001b[1;32min\u001b[0m \u001b[0mG\u001b[0m\u001b[1;33m:\u001b[0m\u001b[1;33m\u001b[0m\u001b[0m\n\u001b[0m\u001b[0;32m     21\u001b[0m         \u001b[0mprint\u001b[0m \u001b[1;33m(\u001b[0m\u001b[0mv\u001b[0m\u001b[1;33m)\u001b[0m\u001b[1;33m\u001b[0m\u001b[0m\n\u001b[0;32m     22\u001b[0m         \u001b[0mv\u001b[0m\u001b[1;33m.\u001b[0m\u001b[0mvisited\u001b[0m\u001b[1;33m=\u001b[0m\u001b[1;32mFalse\u001b[0m\u001b[1;33m\u001b[0m\u001b[0m\n",
      "\u001b[1;32mC:\\Users\\mat.aules\\Downloads\\EP1_graph\\graph.py\u001b[0m in \u001b[0;36m__getitem__\u001b[1;34m(self, node)\u001b[0m\n\u001b[0;32m    149\u001b[0m             \u001b[1;32mreturn\u001b[0m \u001b[0mself\u001b[0m\u001b[1;33m.\u001b[0m\u001b[0m_edges\u001b[0m\u001b[1;33m[\u001b[0m\u001b[0mnode\u001b[0m\u001b[1;33m]\u001b[0m\u001b[1;33m\u001b[0m\u001b[0m\n\u001b[0;32m    150\u001b[0m         \u001b[1;32melse\u001b[0m\u001b[1;33m:\u001b[0m\u001b[1;33m\u001b[0m\u001b[0m\n\u001b[1;32m--> 151\u001b[1;33m             \u001b[1;32mraise\u001b[0m \u001b[0mValueError\u001b[0m\u001b[1;33m(\u001b[0m\u001b[1;34m\"El nodo \"\u001b[0m \u001b[1;33m+\u001b[0m \u001b[0mstr\u001b[0m\u001b[1;33m(\u001b[0m\u001b[0mnode\u001b[0m\u001b[1;33m)\u001b[0m \u001b[1;33m+\u001b[0m \u001b[1;34m\" no existe\"\u001b[0m\u001b[1;33m)\u001b[0m\u001b[1;33m\u001b[0m\u001b[0m\n\u001b[0m\u001b[0;32m    152\u001b[0m \u001b[1;33m\u001b[0m\u001b[0m\n\u001b[0;32m    153\u001b[0m     \u001b[1;32mdef\u001b[0m \u001b[0m__len__\u001b[0m\u001b[1;33m(\u001b[0m\u001b[0mself\u001b[0m\u001b[1;33m)\u001b[0m\u001b[1;33m:\u001b[0m\u001b[1;33m\u001b[0m\u001b[0m\n",
      "\u001b[1;31mValueError\u001b[0m: El nodo 0 no existe"
     ]
    }
   ],
   "source": [
    "G = Graph()\n",
    "G.add_edges_from(((1,2), (1,3), (2,3), (3,6), (4,5), (10,11), (11,12)))   \n",
    "subgraph_search_DFS(G)"
   ]
  },
  {
   "cell_type": "markdown",
   "metadata": {},
   "source": [
    "## 1 BFS\n",
    "_ Tus comentarios aquí _\n",
    "\n",
    "## 2 DFS\n",
    "\n",
    "_ Tus comentarios aquí _"
   ]
  },
  {
   "cell_type": "markdown",
   "metadata": {},
   "source": [
    "<div class=\"alert alert-info\">\n",
    "<center>\n",
    "  <h1>Entrega</h1>\n",
    "  <p>\n",
    "  La entrega de esta práctica se realizará a través del __Campus Virtual__. En ella tenéis que incluir únicamente el fichero `.ipynb` sin comprimir con el código debidamente comentado y los comentarios que se os proponen en la anterior sección.\n",
    "  </p>\n",
    "  <p>\n",
    "  El nombre del archivo ha de seguir el formato:\n",
    "  </p><p style=\"text-align:center\">\n",
    "  ```\n",
    "  <apellidos>_<nombre>_EP1.ipynb\n",
    "  ```\n",
    "  </p>\n",
    "</center>\n",
    "</div>"
   ]
  }
 ],
 "metadata": {
  "kernelspec": {
   "display_name": "Python 3",
   "language": "python",
   "name": "python3"
  },
  "language_info": {
   "codemirror_mode": {
    "name": "ipython",
    "version": 3
   },
   "file_extension": ".py",
   "mimetype": "text/x-python",
   "name": "python",
   "nbconvert_exporter": "python",
   "pygments_lexer": "ipython3",
   "version": "3.6.1"
  }
 },
 "nbformat": 4,
 "nbformat_minor": 2
}
