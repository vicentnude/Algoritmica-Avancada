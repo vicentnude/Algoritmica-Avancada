{
 "cells": [
  {
   "cell_type": "markdown",
   "metadata": {},
   "source": [
    "<div style=\"padding:30px; color: white; background-color: #0071CD\">\n",
    "<center>\n",
    "<p>\n",
    "<h1>Algorítimica Avançada</h1>\n",
    "<h2>Exámen práctico II - NQueens </h2>\n",
    "</center>\n",
    "</p>\n",
    "</div>"
   ]
  },
  {
   "cell_type": "markdown",
   "metadata": {},
   "source": [
    "<div class=\"alert alert-danger\">\n",
    "<center>\n",
    "  <h1>ATENCIÓN!</h1>\n",
    "  \n",
    "  Para realizar la entrega, hay que subir únicamente este fichero renombrado como: __EP21\\_*apellidos*\\_*nombre*.ipynb__\n",
    "</center>\n",
    "</div>"
   ]
  },
  {
   "cell_type": "markdown",
   "metadata": {},
   "source": [
    "<div class=\"alert alert-info\">\n",
    "<center>\n",
    "  <h1>Introducción</h1>\n",
    "</center>\n",
    "</div>"
   ]
  },
  {
   "cell_type": "markdown",
   "metadata": {},
   "source": [
    "El objetivo de este examen es solucionar el problema de las N-Reinas que consiste en colocar $N$ reinas de ajedrez en un tablero de dimensión $N$x$N$ de tal forma que no se amenazen entre ellas. En el siguiente ejemplo se ve el problema resuelto en un tablero de dimensión 4x4."
   ]
  },
  {
   "cell_type": "code",
   "execution_count": 1,
   "metadata": {},
   "outputs": [
    {
     "name": "stdout",
     "output_type": "stream",
     "text": [
      "+---+---+---+---+\n",
      "|   |   | Q |   |\n",
      "+---+---+---+---+\n",
      "| Q |   |   |   |\n",
      "+---+---+---+---+\n",
      "|   |   |   | Q |\n",
      "+---+---+---+---+\n",
      "|   | Q |   |   |\n",
      "+---+---+---+---+\n",
      "\n"
     ]
    }
   ],
   "source": [
    "from queens import Queens\n",
    "\n",
    "b1 = Queens(n=4)\n",
    "b2 = b1.add_queen((1,0))\n",
    "b3 = b2.add_queen((3,1))\n",
    "b4 = b3.add_queen((0,2))\n",
    "b5 = b4.add_queen((2,3))\n",
    "print(b5)"
   ]
  },
  {
   "cell_type": "markdown",
   "metadata": {},
   "source": [
    "Para simplificar el problema se os ofrece la clase `Queens` que contiene las utilidades necesarias para trabajar con el tablero. Hemos visto en el bloque anterior como construimos un tablero de dimensión 4 `Queens(n=4)` y como añadimos reinas utilizando `Queens.add_queen(pos)`. Cada vez que añadimos una reina, la función nos devuelve una nueva instancia de la clase Queens modificada.\n",
    "\n",
    "También tenemos el atributo `Queens.available` que nos devolverá una lista de posiciones en las que es legal añadir una reina."
   ]
  },
  {
   "cell_type": "code",
   "execution_count": 2,
   "metadata": {},
   "outputs": [
    {
     "name": "stdout",
     "output_type": "stream",
     "text": [
      "En el siguiente tablero:\n",
      "+---+---+---+\n",
      "|   |   |   |\n",
      "+---+---+---+\n",
      "| Q |   |   |\n",
      "+---+---+---+\n",
      "|   |   |   |\n",
      "+---+---+---+\n",
      "\n",
      "Las posiciones en las cuales podemos introducir reinas son:\n",
      "[(0, 2), (2, 2)]\n"
     ]
    }
   ],
   "source": [
    "b1 = Queens(n=3)\n",
    "b2 = b1.add_queen((1,0))\n",
    "print(\"En el siguiente tablero:\")\n",
    "print(b2)\n",
    "print(\"Las posiciones en las cuales podemos introducir reinas son:\")\n",
    "print(b2.available)"
   ]
  },
  {
   "cell_type": "markdown",
   "metadata": {},
   "source": [
    "Además tenemos la función `Queens.state()` que nos indicará si ya hemos acabado `True` o todavía no `False`."
   ]
  },
  {
   "cell_type": "code",
   "execution_count": 3,
   "metadata": {},
   "outputs": [
    {
     "name": "stdout",
     "output_type": "stream",
     "text": [
      "El estado de b2 es: False\n",
      "+---+---+---+\n",
      "|   |   |   |\n",
      "+---+---+---+\n",
      "| Q |   |   |\n",
      "+---+---+---+\n",
      "|   |   |   |\n",
      "+---+---+---+\n",
      "\n",
      "El estado de b5 es: True\n",
      "+---+---+---+---+\n",
      "|   |   | Q |   |\n",
      "+---+---+---+---+\n",
      "| Q |   |   |   |\n",
      "+---+---+---+---+\n",
      "|   |   |   | Q |\n",
      "+---+---+---+---+\n",
      "|   | Q |   |   |\n",
      "+---+---+---+---+\n",
      "\n"
     ]
    }
   ],
   "source": [
    "print(\"El estado de b2 es: %s\" % str(b2.state()))\n",
    "print(b2)\n",
    "print(\"El estado de b5 es: %s\" % str(b5.state()))\n",
    "print(b5)\n"
   ]
  },
  {
   "cell_type": "markdown",
   "metadata": {},
   "source": [
    "# Importante!\n",
    "\n",
    "_Haced las pruebas mínimo con n=4, ya que para n=3 y n=2 no existe solución_"
   ]
  },
  {
   "cell_type": "markdown",
   "metadata": {},
   "source": [
    "<div class=\"alert alert-info\">\n",
    "<center>\n",
    "  <h1>Introducción</h1>\n",
    "</center>"
   ]
  },
  {
   "cell_type": "markdown",
   "metadata": {},
   "source": [
    "\n",
    "<div class=\"alert alert-success\" style=\"width:90%; margin:0 auto;\">\n",
    "\n",
    "  <p>\n",
    "  Implementar una función que resuelva el problema de las NQueens, es decir, que consiga situar N reinas en un tablero de NxN, utilizando una estrategia de _Backtracking_. **Es obligatorio implementarlo de forma recursiva**.\n",
    "  </p>\n",
    "\n",
    "  <p>\n",
    "    </div>"
   ]
  },
  {
   "cell_type": "code",
   "execution_count": null,
   "metadata": {},
   "outputs": [],
   "source": []
  },
  {
   "cell_type": "code",
   "execution_count": 4,
   "metadata": {
    "collapsed": true
   },
   "outputs": [],
   "source": [
    "def backtracking(queens):\n",
    "    \n",
    "    if queens.state():\n",
    "        return queens\n",
    "    \n",
    "    empty=queens.empty\n",
    "    \n",
    "    if len(empty) == 0:\n",
    "    \n",
    "        return empty\n",
    "    \n",
    "    available = queens.available\n",
    "    \n",
    "    if len(available) == 0:\n",
    "       \n",
    "        return False\n",
    "    \n",
    "    for number in available:\n",
    "       \n",
    "        \n",
    "        ret= backtracking(queens.add_queen(number))\n",
    "        \n",
    "        if ret:\n",
    "            return ret\n",
    "        \n",
    "        \n",
    "    return ret\n",
    "    \n",
    "    return queens # El tablero solucionado"
   ]
  },
  {
   "cell_type": "code",
   "execution_count": 7,
   "metadata": {},
   "outputs": [
    {
     "name": "stdout",
     "output_type": "stream",
     "text": [
      "+---+---+---+---+---+\n",
      "| Q |   |   |   |   |\n",
      "+---+---+---+---+---+\n",
      "|   |   | Q |   |   |\n",
      "+---+---+---+---+---+\n",
      "|   |   |   |   | Q |\n",
      "+---+---+---+---+---+\n",
      "|   | Q |   |   |   |\n",
      "+---+---+---+---+---+\n",
      "|   |   |   | Q |   |\n",
      "+---+---+---+---+---+\n",
      "\n"
     ]
    }
   ],
   "source": [
    "c = Queens(n=5)\n",
    "\n",
    "print(backtracking(c))"
   ]
  },
  {
   "cell_type": "markdown",
   "metadata": {},
   "source": [
    "<div class=\"alert alert-info\">\n",
    "<center>\n",
    "  <h1>Preguntas</h1>\n",
    "</center>\n",
    "</div>"
   ]
  },
  {
   "cell_type": "markdown",
   "metadata": {},
   "source": [
    "### 1. Como has implementado el algoritmo?\n",
    "\n",
    "El algoritmo,busca primero que haya posiciones libres,despues, las posiciones libres del tablero se guardan para saber cuales estan disponibles (con las funciones de la clase reinas, se comprueba que no este amenzada por otra reina). Estan posiciones que hemos almacenado anteriormente, las recorre con un for y por cada una llama recursivamente a si mismo para solventar el subproblema. Para detener la recursividad cuando tengamos una solución, antes de empezar el algoritmo, comprueba el tablero que le hemos pasado por parametro y si está finalizado, devuelve el tablero y no necesita ejecutarse de nuevo\n",
    "\n",
    "### 2. Que criterios utilizas para hacer la ramificación y la poda?\n",
    "\n",
    "_CONTESTAR AQUÍ_\n",
    "\n",
    "### 3. Realiza un análisis de complejidad del algoritmo\n",
    "\n",
    "La complejidad del algoritmo es de n^2 por las comprobaciones que hace para saber si esta casilla está disponible"
   ]
  },
  {
   "cell_type": "code",
   "execution_count": null,
   "metadata": {
    "collapsed": true
   },
   "outputs": [],
   "source": []
  }
 ],
 "metadata": {
  "kernelspec": {
   "display_name": "Python 3",
   "language": "python",
   "name": "python3"
  },
  "language_info": {
   "codemirror_mode": {
    "name": "ipython",
    "version": 3
   },
   "file_extension": ".py",
   "mimetype": "text/x-python",
   "name": "python",
   "nbconvert_exporter": "python",
   "pygments_lexer": "ipython3",
   "version": "3.6.1"
  }
 },
 "nbformat": 4,
 "nbformat_minor": 2
}
